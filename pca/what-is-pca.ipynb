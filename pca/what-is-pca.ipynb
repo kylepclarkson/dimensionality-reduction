{
 "cells": [
  {
   "cell_type": "markdown",
   "id": "4bda7ea4-d10a-4ec2-8a7a-0a0294400fb0",
   "metadata": {},
   "source": [
    "## PCA for Dimensionality Reduction\n",
    "\n",
    "In this notebook we explore Principal Component Analysis (PCA) and how it can be used to interpret data.\n",
    "We first review how PCA is defined, what exactly the principal components are, and how PCA allows us to reduce the dimensionality of our dataset in a *good* way. \n",
    "We then see how we can use PCA in Python by analyzing a [diabetes dataset](https://www4.stat.ncsu.edu/~boos/var.select/diabetes.html) provided by NCSU\n",
    "and what the principla components are. \n"
   ]
  },
  {
   "cell_type": "markdown",
   "id": "34c0d34d-c217-448a-92e8-adea6f35abcc",
   "metadata": {},
   "source": [
    "### Principal Components of a Dataset \n",
    "\n",
    "Suppose we have a dataset of $n$ samples. Each sample is measured by one of $m$ attributes.\n",
    "We can interpret this as a matrix $X$ of size $n \\times m$  where each row vector corresponds to a sample. \n",
    "For the purpose of dimensionality reduction, we would like to find a matrix $Y$ of size $n \\times d$ where $d << m $ and $Y$ approximates $X$ \n",
    "(that is, $Y$ still captures the underlying properties of the dataset.)\n",
    "In this way, the $d$ remaining attributes would be the componenets of $X$ that capture the most relevant information, or are the **principal components** of $X$.\n",
    "\n",
    "Before we see how we can find these values, let's consider some scenarios where such a reduction can occur. \n",
    "One possibility is a set of attributes in are the same for each sample - there is no information that these attributes have that allow us to distinguish one sample from another. \n",
    "Therefore we could easily remove this set of attributes shrinking the size of $X$.\n",
    "Typically this is not the case however and there is some variability between sample values for a particular attribute. \n",
    "An attribute that has less variability amongst its values may contain less information than an attribute with high variability and therefore could be removed from $X$ to generate $Y$. \n",
    "\n",
    "Another possiblity is there are some dependency between attributes within the data. \n",
    "For example, if we find $x_i = x_j + x_k$ for all samples and attributes $i,j,k$ then attribute $i$ is dependent on $j$ and $k$ and could be removed.\n"
   ]
  },
  {
   "cell_type": "code",
   "execution_count": 4,
   "id": "0726a7e5-b476-42fe-8d00-c4c4477fc5fe",
   "metadata": {},
   "outputs": [],
   "source": [
    "from sklearn.datasets import load_diabetes\n",
    "dia = load_diabetes()\n"
   ]
  },
  {
   "cell_type": "code",
   "execution_count": 8,
   "id": "b565e807-bb25-4642-904a-77bf3ffa431d",
   "metadata": {},
   "outputs": [
    {
     "data": {
      "text/plain": [
       "(442, 10)"
      ]
     },
     "execution_count": 8,
     "metadata": {},
     "output_type": "execute_result"
    }
   ],
   "source": [
    "dia.data.shape"
   ]
  },
  {
   "cell_type": "code",
   "execution_count": 15,
   "id": "f5d02f16-ba91-4c3c-8fb2-3834f3654db1",
   "metadata": {},
   "outputs": [
    {
     "data": {
      "text/plain": [
       "(442,)"
      ]
     },
     "execution_count": 15,
     "metadata": {},
     "output_type": "execute_result"
    }
   ],
   "source": [
    "dia.target.shape"
   ]
  },
  {
   "cell_type": "code",
   "execution_count": 19,
   "id": "003f9307-14d8-4ae7-95c0-c5ad58bd7497",
   "metadata": {},
   "outputs": [
    {
     "data": {
      "text/plain": [
       "-0.1072256316073538"
      ]
     },
     "execution_count": 19,
     "metadata": {},
     "output_type": "execute_result"
    }
   ],
   "source": [
    "dia.data[:, 0].min()"
   ]
  },
  {
   "cell_type": "code",
   "execution_count": 20,
   "id": "caebe557-0fac-476d-a130-a28be69cfc15",
   "metadata": {},
   "outputs": [
    {
     "data": {
      "text/plain": [
       "array([[ 0.03807591,  0.05068012,  0.06169621,  0.02187239, -0.0442235 ,\n",
       "        -0.03482076, -0.04340085, -0.00259226,  0.01990749, -0.01764613],\n",
       "       [-0.00188202, -0.04464164, -0.05147406, -0.02632753, -0.00844872,\n",
       "        -0.01916334,  0.07441156, -0.03949338, -0.06833155, -0.09220405],\n",
       "       [ 0.08529891,  0.05068012,  0.04445121, -0.00567042, -0.04559945,\n",
       "        -0.03419447, -0.03235593, -0.00259226,  0.00286131, -0.02593034],\n",
       "       [-0.08906294, -0.04464164, -0.01159501, -0.03665608,  0.01219057,\n",
       "         0.02499059, -0.03603757,  0.03430886,  0.02268774, -0.00936191],\n",
       "       [ 0.00538306, -0.04464164, -0.03638469,  0.02187239,  0.00393485,\n",
       "         0.01559614,  0.00814208, -0.00259226, -0.03198764, -0.04664087]])"
      ]
     },
     "execution_count": 20,
     "metadata": {},
     "output_type": "execute_result"
    }
   ],
   "source": [
    "dia.data[:5]"
   ]
  },
  {
   "cell_type": "code",
   "execution_count": null,
   "id": "305efee4-0187-448a-8d93-8c9745c446f9",
   "metadata": {},
   "outputs": [],
   "source": []
  }
 ],
 "metadata": {
  "kernelspec": {
   "display_name": "Python 3 (ipykernel)",
   "language": "python",
   "name": "python3"
  },
  "language_info": {
   "codemirror_mode": {
    "name": "ipython",
    "version": 3
   },
   "file_extension": ".py",
   "mimetype": "text/x-python",
   "name": "python",
   "nbconvert_exporter": "python",
   "pygments_lexer": "ipython3",
   "version": "3.10.11"
  }
 },
 "nbformat": 4,
 "nbformat_minor": 5
}
